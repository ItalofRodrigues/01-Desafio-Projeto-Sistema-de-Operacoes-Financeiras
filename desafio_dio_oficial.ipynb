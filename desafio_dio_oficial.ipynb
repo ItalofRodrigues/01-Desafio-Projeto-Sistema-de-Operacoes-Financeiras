{
 "cells": [
  {
   "cell_type": "code",
   "execution_count": 39,
   "id": "5c181719-0e01-4f2b-b3df-4326685e27b3",
   "metadata": {},
   "outputs": [
    {
     "name": "stdin",
     "output_type": "stream",
     "text": [
      "\n",
      "\n",
      "================ MENU ================\n",
      "[d]\tDepositar\n",
      "[s]\tSacar\n",
      "[e]\tExtrato\n",
      "[nc]\tNova conta\n",
      "[lc]\tListar contas\n",
      "[nu]\tNovo usuário\n",
      "[q]\tSair\n",
      "=>  d\n",
      "Insira o seu CPF:  068\n"
     ]
    },
    {
     "name": "stdout",
     "output_type": "stream",
     "text": [
      "Usuário não cadastrado!\n"
     ]
    },
    {
     "name": "stdin",
     "output_type": "stream",
     "text": [
      "\n",
      "\n",
      "================ MENU ================\n",
      "[d]\tDepositar\n",
      "[s]\tSacar\n",
      "[e]\tExtrato\n",
      "[nc]\tNova conta\n",
      "[lc]\tListar contas\n",
      "[nu]\tNovo usuário\n",
      "[q]\tSair\n",
      "=>  nu\n",
      "Informe o CPF (somente número):  068\n",
      "Informe o nome completo:  italo\n",
      "Informe a data de nascimento (dd-mm-aaaa):  03\n",
      "Informe o endereço (logradouro, nro - bairro - cidade/sigla estado):  cj\n"
     ]
    },
    {
     "name": "stdout",
     "output_type": "stream",
     "text": [
      "=== Usuário criado com sucesso! ===\n"
     ]
    },
    {
     "name": "stdin",
     "output_type": "stream",
     "text": [
      "\n",
      "\n",
      "================ MENU ================\n",
      "[d]\tDepositar\n",
      "[s]\tSacar\n",
      "[e]\tExtrato\n",
      "[nc]\tNova conta\n",
      "[lc]\tListar contas\n",
      "[nu]\tNovo usuário\n",
      "[q]\tSair\n",
      "=>  nc\n",
      "Informe o CPF do usuário:  068\n"
     ]
    },
    {
     "name": "stdout",
     "output_type": "stream",
     "text": [
      "\n",
      "=== Conta criada com sucesso! ===\n"
     ]
    },
    {
     "name": "stdin",
     "output_type": "stream",
     "text": [
      "\n",
      "\n",
      "================ MENU ================\n",
      "[d]\tDepositar\n",
      "[s]\tSacar\n",
      "[e]\tExtrato\n",
      "[nc]\tNova conta\n",
      "[lc]\tListar contas\n",
      "[nu]\tNovo usuário\n",
      "[q]\tSair\n",
      "=>  d\n",
      "Insira o seu CPF:  068\n",
      "Informe o valor do depósito:  2000\n"
     ]
    },
    {
     "name": "stdout",
     "output_type": "stream",
     "text": [
      "Operação realizada com sucesso!\n"
     ]
    },
    {
     "name": "stdin",
     "output_type": "stream",
     "text": [
      "\n",
      "\n",
      "================ MENU ================\n",
      "[d]\tDepositar\n",
      "[s]\tSacar\n",
      "[e]\tExtrato\n",
      "[nc]\tNova conta\n",
      "[lc]\tListar contas\n",
      "[nu]\tNovo usuário\n",
      "[q]\tSair\n",
      "=>  e\n",
      "Insira o seu CPF:  068\n"
     ]
    },
    {
     "name": "stdout",
     "output_type": "stream",
     "text": [
      "\n",
      "================ EXTRATO ================\n",
      "Depósito: R$ 2000.00\n",
      "\n",
      "\n",
      "Saldo:\t\tR$ 2000.00\n",
      "==========================================\n"
     ]
    },
    {
     "name": "stdin",
     "output_type": "stream",
     "text": [
      "\n",
      "\n",
      "================ MENU ================\n",
      "[d]\tDepositar\n",
      "[s]\tSacar\n",
      "[e]\tExtrato\n",
      "[nc]\tNova conta\n",
      "[lc]\tListar contas\n",
      "[nu]\tNovo usuário\n",
      "[q]\tSair\n",
      "=>  s\n",
      "Insira o seu CPF:  068\n",
      "Informe o valor do saque:  500\n"
     ]
    },
    {
     "name": "stdout",
     "output_type": "stream",
     "text": [
      "Operação realizada com sucesso!\n"
     ]
    },
    {
     "name": "stdin",
     "output_type": "stream",
     "text": [
      "\n",
      "\n",
      "================ MENU ================\n",
      "[d]\tDepositar\n",
      "[s]\tSacar\n",
      "[e]\tExtrato\n",
      "[nc]\tNova conta\n",
      "[lc]\tListar contas\n",
      "[nu]\tNovo usuário\n",
      "[q]\tSair\n",
      "=>  s\n",
      "Insira o seu CPF:  068\n",
      "Informe o valor do saque:  300\n"
     ]
    },
    {
     "name": "stdout",
     "output_type": "stream",
     "text": [
      "Operação realizada com sucesso!\n"
     ]
    },
    {
     "name": "stdin",
     "output_type": "stream",
     "text": [
      "\n",
      "\n",
      "================ MENU ================\n",
      "[d]\tDepositar\n",
      "[s]\tSacar\n",
      "[e]\tExtrato\n",
      "[nc]\tNova conta\n",
      "[lc]\tListar contas\n",
      "[nu]\tNovo usuário\n",
      "[q]\tSair\n",
      "=>  s\n",
      "Insira o seu CPF:  068\n",
      "Informe o valor do saque:  600\n"
     ]
    },
    {
     "name": "stdout",
     "output_type": "stream",
     "text": [
      "Operação falhou! O valor do saque excede o limite.\n"
     ]
    },
    {
     "name": "stdin",
     "output_type": "stream",
     "text": [
      "\n",
      "\n",
      "================ MENU ================\n",
      "[d]\tDepositar\n",
      "[s]\tSacar\n",
      "[e]\tExtrato\n",
      "[nc]\tNova conta\n",
      "[lc]\tListar contas\n",
      "[nu]\tNovo usuário\n",
      "[q]\tSair\n",
      "=>  s\n",
      "Insira o seu CPF:  067\n"
     ]
    },
    {
     "name": "stdout",
     "output_type": "stream",
     "text": [
      "Usuário não cadastrado!\n"
     ]
    },
    {
     "name": "stdin",
     "output_type": "stream",
     "text": [
      "\n",
      "\n",
      "================ MENU ================\n",
      "[d]\tDepositar\n",
      "[s]\tSacar\n",
      "[e]\tExtrato\n",
      "[nc]\tNova conta\n",
      "[lc]\tListar contas\n",
      "[nu]\tNovo usuário\n",
      "[q]\tSair\n",
      "=>  s\n",
      "Insira o seu CPF:  068\n",
      "Informe o valor do saque:  500\n"
     ]
    },
    {
     "name": "stdout",
     "output_type": "stream",
     "text": [
      "Operação realizada com sucesso!\n"
     ]
    },
    {
     "name": "stdin",
     "output_type": "stream",
     "text": [
      "\n",
      "\n",
      "================ MENU ================\n",
      "[d]\tDepositar\n",
      "[s]\tSacar\n",
      "[e]\tExtrato\n",
      "[nc]\tNova conta\n",
      "[lc]\tListar contas\n",
      "[nu]\tNovo usuário\n",
      "[q]\tSair\n",
      "=>  s\n",
      "Insira o seu CPF:  068\n",
      "Informe o valor do saque:  300\n"
     ]
    },
    {
     "name": "stdout",
     "output_type": "stream",
     "text": [
      "Operação falhou! Número máximo de saques excedido.\n"
     ]
    },
    {
     "name": "stdin",
     "output_type": "stream",
     "text": [
      "\n",
      "\n",
      "================ MENU ================\n",
      "[d]\tDepositar\n",
      "[s]\tSacar\n",
      "[e]\tExtrato\n",
      "[nc]\tNova conta\n",
      "[lc]\tListar contas\n",
      "[nu]\tNovo usuário\n",
      "[q]\tSair\n",
      "=>  lc\n"
     ]
    },
    {
     "name": "stdout",
     "output_type": "stream",
     "text": [
      "====================================================================================================\n",
      "Agência:\t0001\n",
      "C/C:\t\t1\n",
      "Titular:\titalo\n",
      "\n"
     ]
    },
    {
     "name": "stdin",
     "output_type": "stream",
     "text": [
      "\n",
      "\n",
      "================ MENU ================\n",
      "[d]\tDepositar\n",
      "[s]\tSacar\n",
      "[e]\tExtrato\n",
      "[nc]\tNova conta\n",
      "[lc]\tListar contas\n",
      "[nu]\tNovo usuário\n",
      "[q]\tSair\n",
      "=>  e\n",
      "Insira o seu CPF:  068\n"
     ]
    },
    {
     "name": "stdout",
     "output_type": "stream",
     "text": [
      "\n",
      "================ EXTRATO ================\n",
      "Depósito: R$ 2000.00\n",
      "Saque: R$ 500.00\n",
      "Saque: R$ 300.00\n",
      "Saque: R$ 500.00\n",
      "\n",
      "\n",
      "Saldo:\t\tR$ 700.00\n",
      "==========================================\n"
     ]
    },
    {
     "name": "stdin",
     "output_type": "stream",
     "text": [
      "\n",
      "\n",
      "================ MENU ================\n",
      "[d]\tDepositar\n",
      "[s]\tSacar\n",
      "[e]\tExtrato\n",
      "[nc]\tNova conta\n",
      "[lc]\tListar contas\n",
      "[nu]\tNovo usuário\n",
      "[q]\tSair\n",
      "=>  q\n"
     ]
    }
   ],
   "source": [
    "import textwrap\n",
    "\n",
    "\n",
    "def menu():\n",
    "    menu = \"\"\"\\n\n",
    "    ================ MENU ================\n",
    "    [d]\\tDepositar\n",
    "    [s]\\tSacar\n",
    "    [e]\\tExtrato\n",
    "    [nc]\\tNova conta\n",
    "    [lc]\\tListar contas\n",
    "    [nu]\\tNovo usuário\n",
    "    [q]\\tSair\n",
    "    => \"\"\"\n",
    "    return input(textwrap.dedent(menu))\n",
    "\n",
    "\n",
    "def depositar(saldo, extrato, /):\n",
    "    valor = float(input(\"Informe o valor do depósito: \"))\n",
    "    if valor > 0:\n",
    "        saldo += valor\n",
    "        extrato += f\"Depósito: R$ {valor:.2f}\\n\"\n",
    "        print(\"Operação realizada com sucesso!\")\n",
    "    else:\n",
    "        print(\"Operação falhou! O valor informado é inválido.\")\n",
    "    return saldo, extrato\n",
    "\n",
    "\n",
    "def sacar(*, saldo, extrato, numero_saques, LIMITE_SAQUES, limite):\n",
    "    valor = float(input(\"Informe o valor do saque: \"))\n",
    "    excedeu_saldo = valor > saldo\n",
    "    excedeu_limite = valor > limite\n",
    "    excedeu_saques = numero_saques >= LIMITE_SAQUES\n",
    "\n",
    "    if excedeu_saldo:\n",
    "        print(\"Operação falhou! Você não tem saldo suficiente.\")\n",
    "    elif excedeu_limite:\n",
    "        print(\"Operação falhou! O valor do saque excede o limite.\")\n",
    "    elif excedeu_saques:\n",
    "        print(\"Operação falhou! Número máximo de saques excedido.\")\n",
    "    elif valor > 0:\n",
    "        saldo -= valor\n",
    "        extrato += f\"Saque: R$ {valor:.2f}\\n\"\n",
    "        numero_saques += 1\n",
    "        print(\"Operação realizada com sucesso!\")\n",
    "    else:\n",
    "        print(\"Operação falhou! O valor informado é inválido.\")\n",
    "    return saldo, extrato, numero_saques\n",
    "\n",
    "\n",
    "def exibir_extrato(saldo, /, *, extrato):\n",
    "    print(\"\\n================ EXTRATO ================\")\n",
    "    print(\"Não foram realizadas movimentações.\" if not extrato else extrato)\n",
    "    print(f\"\\nSaldo:\\t\\tR$ {saldo:.2f}\")\n",
    "    print(\"==========================================\")\n",
    "\n",
    "\n",
    "def criar_usuario(usuarios):\n",
    "    cpf = input(\"Informe o CPF (somente número): \")\n",
    "    usuario = filtrar_usuario(cpf, usuarios)\n",
    "\n",
    "    if usuario:\n",
    "        print(\"\\n@@@ Já existe usuário com esse CPF! @@@\")\n",
    "        return\n",
    "\n",
    "    nome = input(\"Informe o nome completo: \")\n",
    "    data_nascimento = input(\"Informe a data de nascimento (dd-mm-aaaa): \")\n",
    "    endereco = input(\"Informe o endereço (logradouro, nro - bairro - cidade/sigla estado): \")\n",
    "\n",
    "    usuarios.append({\"nome\": nome, \"data_nascimento\": data_nascimento, \"cpf\": cpf, \"endereco\": endereco})\n",
    "\n",
    "    print(\"=== Usuário criado com sucesso! ===\")\n",
    "\n",
    "\n",
    "def filtrar_usuario(cpf, usuarios):\n",
    "    usuarios_filtrados = [usuario for usuario in usuarios if usuario[\"cpf\"] == cpf]\n",
    "    return usuarios_filtrados[0] if usuarios_filtrados else None\n",
    "\n",
    "\n",
    "def criar_conta(agencia, numero_conta, usuarios):\n",
    "    cpf = input(\"Informe o CPF do usuário: \")\n",
    "    usuario = filtrar_usuario(cpf, usuarios)\n",
    "\n",
    "    if usuario:\n",
    "        print(\"\\n=== Conta criada com sucesso! ===\")\n",
    "        return {\"agencia\": agencia, \"numero_conta\": numero_conta, \"usuario\": usuario}\n",
    "\n",
    "    print(\"\\n@@@ Usuário não encontrado, fluxo de criação de conta encerrado! @@@\")\n",
    "\n",
    "\n",
    "def listar_contas(contas):\n",
    "    for conta in contas:\n",
    "        linha = f\"\"\"\\\n",
    "            Agência:\\t{conta['agencia']}\n",
    "            C/C:\\t\\t{conta['numero_conta']}\n",
    "            Titular:\\t{conta['usuario']['nome']}\n",
    "        \"\"\"\n",
    "        print(\"=\" * 100)\n",
    "        print(textwrap.dedent(linha))\n",
    "\n",
    "\n",
    "def main():\n",
    "    LIMITE_SAQUES = 3\n",
    "    AGENCIA = \"0001\"\n",
    "\n",
    "    saldo = 0\n",
    "    limite = 500\n",
    "    extrato = \"\"\n",
    "    numero_saques = 0\n",
    "    usuarios = []\n",
    "    contas = []\n",
    "\n",
    "    while True:\n",
    "        opcao = menu()\n",
    "\n",
    "        if opcao == \"d\":\n",
    "            autenticacao = input(\"Insira o seu CPF: \")\n",
    "            usuario = filtrar_usuario(autenticacao, usuarios)\n",
    "            if usuario:\n",
    "                saldo, extrato = depositar(saldo, extrato)\n",
    "            else:\n",
    "                print(\"Usuário não cadastrado!\")\n",
    "\n",
    "        elif opcao == \"s\":\n",
    "            autenticacao = input(\"Insira o seu CPF: \")\n",
    "            usuario = filtrar_usuario(autenticacao, usuarios)\n",
    "            if usuario:\n",
    "                saldo, extrato, numero_saques = sacar(saldo=saldo, extrato=extrato, numero_saques=numero_saques, LIMITE_SAQUES=LIMITE_SAQUES, limite=limite)\n",
    "            else:\n",
    "                print(\"Usuário não cadastrado!\")\n",
    "\n",
    "        elif opcao == \"e\":\n",
    "            autenticacao = input(\"Insira o seu CPF: \")\n",
    "            usuario = filtrar_usuario(autenticacao, usuarios)\n",
    "            if usuario:\n",
    "                exibir_extrato(saldo, extrato=extrato)\n",
    "            else:\n",
    "                print(\"Usuário não cadastrado!\")\n",
    "\n",
    "        elif opcao == \"nc\":\n",
    "            numero_conta = len(contas) + 1\n",
    "            conta = criar_conta(AGENCIA, numero_conta, usuarios)\n",
    "            if conta:\n",
    "                contas.append(conta)\n",
    "\n",
    "        elif opcao == \"lc\":\n",
    "            listar_contas(contas)\n",
    "\n",
    "        elif opcao == \"nu\":\n",
    "            criar_usuario(usuarios)\n",
    "\n",
    "        elif opcao == \"q\":\n",
    "            break\n",
    "\n",
    "        else:\n",
    "            print(\"Operação inválida, por favor selecione novamente a operação desejada.\")\n",
    "\n",
    "if __name__ == \"__main__\":\n",
    "    main()\n"
   ]
  },
  {
   "cell_type": "code",
   "execution_count": null,
   "id": "c2f74e01-def7-465f-aac4-e2a73a17ba39",
   "metadata": {},
   "outputs": [],
   "source": []
  },
  {
   "cell_type": "code",
   "execution_count": null,
   "id": "482ce3d9-7b3e-4af8-8f75-785ea17598a8",
   "metadata": {},
   "outputs": [],
   "source": []
  }
 ],
 "metadata": {
  "kernelspec": {
   "display_name": "Python 3 (ipykernel)",
   "language": "python",
   "name": "python3"
  },
  "language_info": {
   "codemirror_mode": {
    "name": "ipython",
    "version": 3
   },
   "file_extension": ".py",
   "mimetype": "text/x-python",
   "name": "python",
   "nbconvert_exporter": "python",
   "pygments_lexer": "ipython3",
   "version": "3.9.12"
  }
 },
 "nbformat": 4,
 "nbformat_minor": 5
}
